{
  "nbformat": 4,
  "nbformat_minor": 0,
  "metadata": {
    "colab": {
      "name": "Untitled7.ipynb",
      "provenance": [],
      "authorship_tag": "ABX9TyPaxKZOEah6E/7WDK9UFHa3",
      "include_colab_link": true
    },
    "kernelspec": {
      "name": "python3",
      "display_name": "Python 3"
    },
    "language_info": {
      "name": "python"
    }
  },
  "cells": [
    {
      "cell_type": "markdown",
      "metadata": {
        "id": "view-in-github",
        "colab_type": "text"
      },
      "source": [
        "<a href=\"https://colab.research.google.com/github/shwetabhute/Pandas/blob/main/Untitled7.ipynb\" target=\"_parent\"><img src=\"https://colab.research.google.com/assets/colab-badge.svg\" alt=\"Open In Colab\"/></a>"
      ]
    },
    {
      "cell_type": "code",
      "execution_count": 3,
      "metadata": {
        "colab": {
          "base_uri": "https://localhost:8080/"
        },
        "id": "TORzIwsdpSK-",
        "outputId": "c57e6a47-9c3b-46ac-c482-3592847f0997"
      },
      "outputs": [
        {
          "output_type": "stream",
          "name": "stdout",
          "text": [
            "{'calories': [120, 140, 160], 'duration': [20, 40, 60]}\n"
          ]
        }
      ],
      "source": [
        "import pandas as pd\n",
        "data= {\"calories\":[120,140,160],\"duration\":[20,40,60]}\n",
        "df=pd.DataFrame(data)\n",
        "print(data)"
      ]
    }
  ]
}